{
 "cells": [
  {
   "cell_type": "markdown",
   "metadata": {},
   "source": [
    "# Group 9 - Refugees/Foreigner in Media \n",
    "\n",
    "Alexander Schneider, Simon Schauß, Lukas Härtel"
   ]
  },
  {
   "cell_type": "markdown",
   "metadata": {},
   "source": [
    "## 1 Initialization"
   ]
  },
  {
   "cell_type": "markdown",
   "metadata": {},
   "source": [
    "### 1.1 Initialize spark session"
   ]
  },
  {
   "cell_type": "code",
   "execution_count": 1,
   "metadata": {},
   "outputs": [],
   "source": [
    "from pyspark import SparkContext\n",
    "from pyspark.sql import SparkSession\n",
    "\n",
    "\n",
    "SparkContext.setSystemProperty('spark.driver.memory', '4g')\n",
    "SparkContext.setSystemProperty('spark.driver.maxResultSize', '4g')\n",
    "SparkContext.setSystemProperty('spark.executor.memory', '4g')\n",
    "\n",
    "sample_fraction = 1\n",
    "spark = SparkSession.builder \\\n",
    "    .appName('reffor') \\\n",
    "    .master('local[*]') \\\n",
    "    .getOrCreate()"
   ]
  },
  {
   "cell_type": "markdown",
   "metadata": {},
   "source": [
    "### 1.2 Initialize tokenizer"
   ]
  },
  {
   "cell_type": "code",
   "execution_count": 2,
   "metadata": {},
   "outputs": [],
   "source": [
    "from nltk.tokenize.punkt import PunktSentenceTokenizer\n",
    "from os.path import join\n",
    "from pickle import load\n",
    "\n",
    "\n",
    "german_tokenizer = PunktSentenceTokenizer(load(open(join('german', 'punkt-de'), 'rb')))\n"
   ]
  },
  {
   "cell_type": "markdown",
   "metadata": {},
   "source": [
    "### 1.3 Load sentiment files"
   ]
  },
  {
   "cell_type": "code",
   "execution_count": 3,
   "metadata": {},
   "outputs": [],
   "source": [
    "from sentiment_loader import load_sentiment_file\n",
    "\n",
    "\n",
    "pos_sentiment = load_sentiment_file(join('german', 'SentiWS_v1.8c_Positive.txt'))\n",
    "neg_sentiment = load_sentiment_file(join('german', 'SentiWS_v1.8c_Negative.txt'))\n"
   ]
  },
  {
   "cell_type": "markdown",
   "metadata": {},
   "source": [
    "## 2. Analyzation"
   ]
  },
  {
   "cell_type": "markdown",
   "metadata": {},
   "source": [
    "### 2.1 Tag words in articles with sentiment polarity\n",
    "\n",
    "The polarity ranges from -1 (negative sentiment) to +1 (positive sentiment)"
   ]
  },
  {
   "cell_type": "code",
   "execution_count": 4,
   "metadata": {},
   "outputs": [],
   "source": [
    "from common import flatten\n",
    "from dateutil.parser import parse as parse_date\n",
    "from pyspark.sql import Row\n",
    "from pattern.text.de import parse as tag_polarity\n",
    "from math import ceil\n",
    "from pyspark.storagelevel import StorageLevel\n",
    "\n",
    "\n",
    "def tag_sentence(sentence):\n",
    "    \"\"\"\n",
    "    Tag words in sentence with the STTS.\n",
    "    \n",
    "    :param sentence: the sentence to tag as array of words \n",
    "    :return: the sentence as array of word/tag tuples\n",
    "    \"\"\"\n",
    "    return [(word_tag[0], word_tag[1]) for word_tag in\n",
    "            flatten(tag_polarity(sentence, tagset='STTS', chunks=False, split=True))]\n",
    "\n",
    "\n",
    "def evaluate_polarity(word, tag):\n",
    "    \"\"\"\n",
    "    Evaluate the polarity for a word with given STTS tag.\n",
    "    \n",
    "    :param word: the word to evaluate\n",
    "    :param tag: the STTS tag for the word\n",
    "    :return: tuple of word and polarity\n",
    "    \"\"\"\n",
    "    word_lower = word.lower()\n",
    "    pos_polarity = pos_sentiment.get((word_lower, tag), 0.0)\n",
    "    return word, neg_sentiment.get((word_lower, tag), pos_polarity)\n",
    "\n",
    "\n",
    "def evaluate_sentiment(article):\n",
    "    \"\"\"\n",
    "    Evaluate the polarity for every word in an article.\n",
    "    \n",
    "    :param article: the article to evaluate\n",
    "    :return: the article as array of word/polarity tuples\n",
    "    \"\"\"\n",
    "    tagged_article = flatten([tag_sentence(sentence) for sentence in german_tokenizer.tokenize(article)])\n",
    "    return [evaluate_polarity(word, tag) for (word, tag) in tagged_article]\n",
    "\n",
    "\n",
    "# read articles from disk and evaluate the sentiment polarity for every word in the article\n",
    "tagged_articles_cache = spark \\\n",
    "    .read \\\n",
    "    .csv('spiegel-articles-csv', header=True) \\\n",
    "    .rdd \\\n",
    "    .sample(withReplacement=False, fraction=sample_fraction) \\\n",
    "    .repartition(ceil(512 * sample_fraction)) \\\n",
    "    .map(lambda row: Row(date=parse_date(row.date), article=row.article, sentiments=evaluate_sentiment(row.article))) \\\n",
    "    .sortBy(lambda row: row.date) \\\n",
    "    .persist()\n"
   ]
  },
  {
   "cell_type": "markdown",
   "metadata": {},
   "source": [
    "### 2.2 Calculate sentiment polarity sum per article"
   ]
  },
  {
   "cell_type": "code",
   "execution_count": 5,
   "metadata": {},
   "outputs": [],
   "source": [
    "# map the array of sentiment values for the words in an article to the average polarity of these words\n",
    "tagged_articles = tagged_articles_cache \\\n",
    "    .map(lambda row: Row(date=row.date, article=row.article, sentiment_mean=sum([t[1] for t in row.sentiments]) / len(row.sentiments))) \\\n",
    "    .toDF() \\\n",
    "    .toPandas()\n"
   ]
  },
  {
   "cell_type": "markdown",
   "metadata": {},
   "source": [
    "### 2.3 Plot moving average of sentiment overtime"
   ]
  },
  {
   "cell_type": "code",
   "execution_count": 13,
   "metadata": {},
   "outputs": [
    {
     "data": {
      "application/vnd.jupyter.widget-view+json": {
       "model_id": "948ecea82e6c467b858431b9a0b931e0",
       "version_major": 2,
       "version_minor": 0
      },
      "text/plain": [
       "interactive(children=(Text(value='', description='search_term'), Output()), _dom_classes=('widget-interact',))"
      ]
     },
     "metadata": {},
     "output_type": "display_data"
    }
   ],
   "source": [
    "from pandas.tseries.converter import DatetimeConverter\n",
    "from matplotlib.dates import DateFormatter\n",
    "import matplotlib.pyplot as plt\n",
    "import ipywidgets as widgets\n",
    "\n",
    "\n",
    "@widgets.interact(search_term=\"\")\n",
    "def render_fig(search_term):\n",
    "    window_size = '180d'\n",
    "    min_periods = 30\n",
    "    xlabel = 'date'\n",
    "    ylabel = 'sentiment'\n",
    "    title = 'Moving Average (window size {}, min. periods {}) Sentiment for Spiegel' \\\n",
    "        .format(window_size, min_periods)\n",
    "    \n",
    "    if(search_term is not ''):\n",
    "        title += ' Online articles covering {}'.format(search_term)\n",
    "\n",
    "    filtered_articles = tagged_articles[\n",
    "        tagged_articles.apply(lambda row: search_term.lower() in row['article'].lower(), axis=1)]\n",
    "    \n",
    "    if(len(filtered_articles) is not 0):\n",
    "        rolled_tagged_articles = filtered_articles.rolling(window_size, min_periods, closed='right', on='date')[\n",
    "            'sentiment_mean']\n",
    "        mean_sentiments = rolled_tagged_articles.mean().values\n",
    "        bottom_quantile_sentiments = rolled_tagged_articles.quantile(.25).values\n",
    "        top_quantile_sentiments = rolled_tagged_articles.quantile(.75).values\n",
    "\n",
    "        dates = DatetimeConverter.convert(filtered_articles['date'].values, None, None)\n",
    "\n",
    "        fig, ax = plt.subplots(figsize=(25, 10))\n",
    "\n",
    "        ax.xaxis.set_major_formatter(DateFormatter('%Y'))\n",
    "\n",
    "        ax.plot(dates, mean_sentiments)\n",
    "        ax.set(xlabel='date', ylabel='sentiment', title=title)\n",
    "        ax.grid()\n",
    "        ax.fill_between(dates, bottom_quantile_sentiments, top_quantile_sentiments, facecolor='green', alpha=0.2)\n",
    "\n",
    "        plt.rcParams.update({'font.size': 18})\n",
    "        plt.show()"
   ]
  },
  {
   "cell_type": "markdown",
   "metadata": {},
   "source": [
    "### 2.4 List of the most common words with positive polarity"
   ]
  },
  {
   "cell_type": "code",
   "execution_count": 9,
   "metadata": {},
   "outputs": [
    {
     "data": {
      "text/html": [
       "<div>\n",
       "<style scoped>\n",
       "    .dataframe tbody tr th:only-of-type {\n",
       "        vertical-align: middle;\n",
       "    }\n",
       "\n",
       "    .dataframe tbody tr th {\n",
       "        vertical-align: top;\n",
       "    }\n",
       "\n",
       "    .dataframe thead th {\n",
       "        text-align: right;\n",
       "    }\n",
       "</style>\n",
       "<table border=\"1\" class=\"dataframe\">\n",
       "  <thead>\n",
       "    <tr style=\"text-align: right;\">\n",
       "      <th></th>\n",
       "      <th>word</th>\n",
       "      <th>count</th>\n",
       "    </tr>\n",
       "  </thead>\n",
       "  <tbody>\n",
       "    <tr>\n",
       "      <th>0</th>\n",
       "      <td>neue</td>\n",
       "      <td>10580</td>\n",
       "    </tr>\n",
       "    <tr>\n",
       "      <th>1</th>\n",
       "      <td>neuen</td>\n",
       "      <td>8721</td>\n",
       "    </tr>\n",
       "    <tr>\n",
       "      <th>2</th>\n",
       "      <td>gut</td>\n",
       "      <td>8553</td>\n",
       "    </tr>\n",
       "    <tr>\n",
       "      <th>3</th>\n",
       "      <td>große</td>\n",
       "      <td>5442</td>\n",
       "    </tr>\n",
       "    <tr>\n",
       "      <th>4</th>\n",
       "      <td>großen</td>\n",
       "      <td>5199</td>\n",
       "    </tr>\n",
       "    <tr>\n",
       "      <th>5</th>\n",
       "      <td>Hilfe</td>\n",
       "      <td>4171</td>\n",
       "    </tr>\n",
       "    <tr>\n",
       "      <th>6</th>\n",
       "      <td>klar</td>\n",
       "      <td>3972</td>\n",
       "    </tr>\n",
       "    <tr>\n",
       "      <th>7</th>\n",
       "      <td>schnell</td>\n",
       "      <td>3717</td>\n",
       "    </tr>\n",
       "    <tr>\n",
       "      <th>8</th>\n",
       "      <td>möglich</td>\n",
       "      <td>3461</td>\n",
       "    </tr>\n",
       "    <tr>\n",
       "      <th>9</th>\n",
       "      <td>Sicherheit</td>\n",
       "      <td>3270</td>\n",
       "    </tr>\n",
       "  </tbody>\n",
       "</table>\n",
       "</div>"
      ],
      "text/plain": [
       "         word  count\n",
       "0        neue  10580\n",
       "1       neuen   8721\n",
       "2         gut   8553\n",
       "3       große   5442\n",
       "4      großen   5199\n",
       "5       Hilfe   4171\n",
       "6        klar   3972\n",
       "7     schnell   3717\n",
       "8     möglich   3461\n",
       "9  Sicherheit   3270"
      ]
     },
     "execution_count": 9,
     "metadata": {},
     "output_type": "execute_result"
    }
   ],
   "source": [
    "tagged_articles_cache \\\n",
    "    .flatMap(lambda row: [Row(word=t[0], sentiment=t[1]) for t in row.sentiments]) \\\n",
    "    .filter(lambda row: row.sentiment > 0) \\\n",
    "    .toDF() \\\n",
    "    .groupBy('word') \\\n",
    "    .count() \\\n",
    "    .orderBy('count', ascending=False) \\\n",
    "    .toPandas() \\\n",
    "    .head(10)\n"
   ]
  },
  {
   "cell_type": "markdown",
   "metadata": {},
   "source": [
    "### 2.5 List of the most common words with negative polarity"
   ]
  },
  {
   "cell_type": "code",
   "execution_count": 10,
   "metadata": {},
   "outputs": [
    {
     "data": {
      "text/html": [
       "<div>\n",
       "<style scoped>\n",
       "    .dataframe tbody tr th:only-of-type {\n",
       "        vertical-align: middle;\n",
       "    }\n",
       "\n",
       "    .dataframe tbody tr th {\n",
       "        vertical-align: top;\n",
       "    }\n",
       "\n",
       "    .dataframe thead th {\n",
       "        text-align: right;\n",
       "    }\n",
       "</style>\n",
       "<table border=\"1\" class=\"dataframe\">\n",
       "  <thead>\n",
       "    <tr style=\"text-align: right;\">\n",
       "      <th></th>\n",
       "      <th>word</th>\n",
       "      <th>count</th>\n",
       "    </tr>\n",
       "  </thead>\n",
       "  <tbody>\n",
       "    <tr>\n",
       "      <th>0</th>\n",
       "      <td>Flüchtlinge</td>\n",
       "      <td>28339</td>\n",
       "    </tr>\n",
       "    <tr>\n",
       "      <th>1</th>\n",
       "      <td>Ende</td>\n",
       "      <td>10635</td>\n",
       "    </tr>\n",
       "    <tr>\n",
       "      <th>2</th>\n",
       "      <td>Flüchtlingen</td>\n",
       "      <td>7912</td>\n",
       "    </tr>\n",
       "    <tr>\n",
       "      <th>3</th>\n",
       "      <td>Krieg</td>\n",
       "      <td>4952</td>\n",
       "    </tr>\n",
       "    <tr>\n",
       "      <th>4</th>\n",
       "      <td>Gewalt</td>\n",
       "      <td>4668</td>\n",
       "    </tr>\n",
       "    <tr>\n",
       "      <th>5</th>\n",
       "      <td>Kritik</td>\n",
       "      <td>4203</td>\n",
       "    </tr>\n",
       "    <tr>\n",
       "      <th>6</th>\n",
       "      <td>Angst</td>\n",
       "      <td>4146</td>\n",
       "    </tr>\n",
       "    <tr>\n",
       "      <th>7</th>\n",
       "      <td>Problem</td>\n",
       "      <td>4107</td>\n",
       "    </tr>\n",
       "    <tr>\n",
       "      <th>8</th>\n",
       "      <td>Flucht</td>\n",
       "      <td>3797</td>\n",
       "    </tr>\n",
       "    <tr>\n",
       "      <th>9</th>\n",
       "      <td>Kampf</td>\n",
       "      <td>3617</td>\n",
       "    </tr>\n",
       "  </tbody>\n",
       "</table>\n",
       "</div>"
      ],
      "text/plain": [
       "           word  count\n",
       "0   Flüchtlinge  28339\n",
       "1          Ende  10635\n",
       "2  Flüchtlingen   7912\n",
       "3         Krieg   4952\n",
       "4        Gewalt   4668\n",
       "5        Kritik   4203\n",
       "6         Angst   4146\n",
       "7       Problem   4107\n",
       "8        Flucht   3797\n",
       "9         Kampf   3617"
      ]
     },
     "execution_count": 10,
     "metadata": {},
     "output_type": "execute_result"
    }
   ],
   "source": [
    "tagged_articles_cache \\\n",
    "    .flatMap(lambda row: [Row(word=t[0], sentiment=t[1]) for t in row.sentiments]) \\\n",
    "    .filter(lambda row: row.sentiment < 0) \\\n",
    "    .toDF() \\\n",
    "    .groupBy('word') \\\n",
    "    .count() \\\n",
    "    .orderBy('count', ascending=False) \\\n",
    "    .toPandas() \\\n",
    "    .head(10)\n"
   ]
  }
 ],
 "metadata": {
  "kernelspec": {
   "display_name": "Python 3",
   "language": "python",
   "name": "python3"
  },
  "language_info": {
   "codemirror_mode": {
    "name": "ipython",
    "version": 3
   },
   "file_extension": ".py",
   "mimetype": "text/x-python",
   "name": "python",
   "nbconvert_exporter": "python",
   "pygments_lexer": "ipython3",
   "version": "3.6.6"
  }
 },
 "nbformat": 4,
 "nbformat_minor": 2
}
